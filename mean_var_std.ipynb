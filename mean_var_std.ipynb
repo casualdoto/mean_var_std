{
 "cells": [
  {
   "cell_type": "markdown",
   "id": "979e4234-c9c6-48fb-b4f3-82f1d47da392",
   "metadata": {},
   "source": [
    "Create a function named calculate() in mean_var_std.py that uses Numpy to output the mean, variance, standard deviation, max, min, and sum of the rows, columns, and elements in a 3 x 3 matrix.\n",
    "\n",
    "The input of the function should be a list containing 9 digits. The function should convert the list into a 3 x 3 Numpy array, and then return a dictionary containing the mean, variance, standard deviation, max, min, and sum along both axes and for the flattened matrix.\n",
    "\n",
    "The returned dictionary should follow this format:\n",
    "\n",
    "{\n",
    "  'mean': [axis1, axis2, flattened],\n",
    "  'variance': [axis1, axis2, flattened],\n",
    "  'standard deviation': [axis1, axis2, flattened],\n",
    "  'max': [axis1, axis2, flattened],\n",
    "  'min': [axis1, axis2, flattened],\n",
    "  'sum': [axis1, axis2, flattened]\n",
    "}\n",
    "If a list containing less than 9 elements is passed into the function, it should raise a ValueError exception with the message: \"List must contain nine numbers.\" The values in the returned dictionary should be lists and not Numpy arrays."
   ]
  },
  {
   "cell_type": "code",
   "execution_count": 3,
   "id": "850de249-18da-4bd9-aaaf-cbf0eeefbca5",
   "metadata": {},
   "outputs": [],
   "source": [
    "import numpy as np"
   ]
  },
  {
   "cell_type": "code",
   "execution_count": 4,
   "id": "3fbb8fa7-69cb-4d7a-bfc7-921a061089c6",
   "metadata": {},
   "outputs": [
    {
     "name": "stdout",
     "output_type": "stream",
     "text": [
      "{'mean': [[3.0, 4.0, 5.0], [1.0, 4.0, 7.0], 4.0], 'variance': [[6.0, 6.0, 6.0], [0.6666666666666666, 0.6666666666666666, 0.6666666666666666], 6.666666666666667], 'standard deviation': [[2.449489742783178, 2.449489742783178, 2.449489742783178], [0.816496580927726, 0.816496580927726, 0.816496580927726], 2.581988897471611], 'max': [[6, 7, 8], [2, 5, 8], 8], 'min': [[0, 1, 2], [0, 3, 6], 0], 'sum': [[9, 12, 15], [3, 12, 21], 36]}\n"
     ]
    }
   ],
   "source": [
    "def calculate(list):\n",
    "    if len(list) != 9:\n",
    "        raise ValueError(\"List must contain nine numbers.\")\n",
    "    \n",
    "    array = np.reshape(list, (3, 3))\n",
    "    \n",
    "    mean_rows = np.mean(array, axis=0).tolist()\n",
    "    mean_columns = np.mean(array, axis=1).tolist()\n",
    "    mean_full = np.mean(array).tolist()\n",
    "    \n",
    "    var_rows = np.var(array, axis=0).tolist()\n",
    "    var_columns = np.var(array, axis=1).tolist()\n",
    "    var_full = np.var(array).tolist()\n",
    "    \n",
    "    std_rows = np.std(array, axis=0).tolist()\n",
    "    std_columns = np.std(array, axis=1).tolist()\n",
    "    std_full = np.std(array).tolist()\n",
    "    \n",
    "    max_rows = np.max(array, axis=0).tolist()\n",
    "    max_columns = np.max(array, axis=1).tolist()\n",
    "    max_full = np.max(array).tolist()\n",
    "    \n",
    "    min_rows = np.min(array, axis=0).tolist()\n",
    "    min_columns = np.min(array, axis=1).tolist()\n",
    "    min_full = np.min(array).tolist()\n",
    "    \n",
    "    sum_rows = np.sum(array, axis=0).tolist()\n",
    "    sum_columns = np.sum(array, axis=1).tolist()\n",
    "    sum_full = np.sum(array).tolist()\n",
    "    \n",
    "    calculations = {\n",
    "        'mean': [mean_rows, mean_columns, mean_full],\n",
    "        'variance': [var_rows, var_columns, var_full],\n",
    "        'standard deviation': [std_rows, std_columns, std_full],\n",
    "        'max': [max_rows, max_columns, max_full],\n",
    "        'min': [min_rows, min_columns, min_full],\n",
    "        'sum': [sum_rows, sum_columns, sum_full]\n",
    "    }\n",
    "    \n",
    "    return calculations\n",
    "\n",
    "result = calculate([0, 1, 2, 3, 4, 5, 6, 7, 8])\n",
    "print(result)\n"
   ]
  }
 ],
 "metadata": {
  "kernelspec": {
   "display_name": "Python 3 (ipykernel)",
   "language": "python",
   "name": "python3"
  },
  "language_info": {
   "codemirror_mode": {
    "name": "ipython",
    "version": 3
   },
   "file_extension": ".py",
   "mimetype": "text/x-python",
   "name": "python",
   "nbconvert_exporter": "python",
   "pygments_lexer": "ipython3",
   "version": "3.12.2"
  }
 },
 "nbformat": 4,
 "nbformat_minor": 5
}
